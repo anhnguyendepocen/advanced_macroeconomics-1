{
 "cells": [
  {
   "cell_type": "markdown",
   "metadata": {},
   "source": [
    "__Ramsey__\n",
    "\n",
    "We do some numerical explorations of the Ramsey model.\n",
    "\n",
    "The Ramsey model gave us the law of motion for consumption and capital:\n",
    "\n",
    "$ c_{t+1} = \\frac{\\beta^{1/\\gamma}}{1+g}(1+f'(k_t)-\\delta)^{1/\\gamma} c_t $\n",
    "\n",
    "$k_{t+1} = \\frac{1}{1+g}(f(k_t) + (1-\\delta)k_t-c_t)$\n",
    "\n",
    "*If* we know $c_t$ and $k_t$, then it is easy to \"solve forward\" for $c_{t+1}$ and $k_{t+1}$, and thereafter for $c_{t+2}$ and $k_{t+2}$ etc. The problem is that we don't know $c_t$, it is determined at time $t$ and not pre-determined.\n",
    "\n",
    "Here is a way to find the initial value of $c_t$ given $k_t$: Start with a guess for $c_t$ and solve forward. If we guess too low, then $c_t$ eventually converges to zero, if we guess too high then $k_t$ eventually converges to zero. So we keep guessing using the \"bisection method\" and eventually find the right value of $c_t$."
   ]
  },
  {
   "cell_type": "code",
   "execution_count": 8,
   "metadata": {
    "collapsed": false
   },
   "outputs": [],
   "source": [
    "#First we define the constants and the production function:\n",
    "import numpy as np\n",
    "\n",
    "alpha = 0.3\n",
    "delta = 0.1\n",
    "beta = 0.95\n",
    "theta = 1.0\n",
    "g = 0.02\n",
    "\n",
    "def f(k):\n",
    "    return k**alpha\n",
    "\n",
    "def fprime(k):\n",
    "    return alpha*np.maximum(k, 0.0001)**(alpha-1)\n"
   ]
  },
  {
   "cell_type": "code",
   "execution_count": 9,
   "metadata": {
    "collapsed": true
   },
   "outputs": [],
   "source": [
    "k_init = 2.0\n",
    "\n",
    "#Law of motion:\n",
    "def c_new_k_new(c, k):\n",
    "    k_new = (f(k)+(1-delta)*k-c)/(1+g)\n",
    "    c_new = (beta*(1+fprime(k_new)-delta))**(1/theta)*c/(1+g)\n",
    "\n",
    "    return c_new, k_new\n",
    "\n",
    "def test_c_guess_given_k_init(c_guess, k_init):\n",
    "    c, k = c_guess, k_init\n",
    "    \n",
    "    for i in range(100000):\n",
    "        c_new, k_new = c_new_k_new(c, k)\n",
    "        if c_new < 0.001:\n",
    "            return \"low\"\n",
    "        if k_new < 0.001:\n",
    "            return \"high\"\n",
    "        c, k = c_new, k_new\n",
    "    "
   ]
  },
  {
   "cell_type": "code",
   "execution_count": 10,
   "metadata": {
    "collapsed": false
   },
   "outputs": [
    {
     "name": "stdout",
     "output_type": "stream",
     "text": [
      "5.005\n",
      "2.5075\n",
      "1.2587499999999998\n",
      "0.6343749999999999\n",
      "0.9465624999999999\n",
      "1.10265625\n",
      "1.0246093749999998\n",
      "0.9855859374999998\n",
      "0.9660742187499998\n",
      "0.9563183593749998\n",
      "0.9611962890624998\n",
      "0.9587573242187497\n",
      "0.9575378417968747\n",
      "0.9581475830078122\n",
      "0.9578427124023434\n",
      "0.9579951477050779\n",
      "0.9579189300537106\n"
     ]
    }
   ],
   "source": [
    "c_guess_low = 0.01\n",
    "c_guess_high = 10.00\n",
    "\n",
    "while c_guess_high-c_guess_low > 0.0001:\n",
    "    c_guess = (c_guess_low+c_guess_high)/2.0\n",
    "    result = test_c_guess_given_k_init(c_guess, k_init)\n",
    "    if result == \"low\":\n",
    "        c_guess_low = c_guess\n",
    "    if result == \"high\":\n",
    "        c_guess_high = c_guess\n",
    "        \n",
    "    print(c_guess)"
   ]
  },
  {
   "cell_type": "code",
   "execution_count": 12,
   "metadata": {
    "collapsed": false
   },
   "outputs": [
    {
     "data": {
      "text/plain": [
       "<matplotlib.text.Text at 0x7f078df41fd0>"
      ]
     },
     "execution_count": 12,
     "metadata": {},
     "output_type": "execute_result"
    },
    {
     "data": {
      "image/png": "[encoded data removed]",
      "text/plain": [
       "<matplotlib.figure.Figure at 0x7f078dfcbcf8>"
      ]
     },
     "metadata": {},
     "output_type": "display_data"
    }
   ],
   "source": [
    "def c_from_k(k_init):\n",
    "\n",
    "    c_guess_low = 0.01\n",
    "    c_guess_high = 10.00\n",
    "\n",
    "    while c_guess_high-c_guess_low > 0.0001:\n",
    "        c_guess = (c_guess_low+c_guess_high)/2.0\n",
    "        result = test_c_guess_given_k_init(c_guess, k_init)\n",
    "        if result == \"low\":\n",
    "            c_guess_low = c_guess\n",
    "        if result == \"high\":\n",
    "            c_guess_high = c_guess\n",
    "\n",
    "    return c_guess\n",
    "\n",
    "import numpy as np\n",
    "import pylab as pl\n",
    "%matplotlib inline\n",
    "k_values = np.linspace(0.01, 5.0, 100)\n",
    "c_values = [c_from_k(k_init) for k_init in k_values]\n",
    "pl.plot(k_values, c_values)\n",
    "pl.xlabel('k')\n",
    "pl.ylabel('c')"
   ]
  },
  {
   "cell_type": "code",
   "execution_count": 14,
   "metadata": {
    "collapsed": false
   },
   "outputs": [
    {
     "data": {
      "text/plain": [
       "<matplotlib.text.Text at 0x7f078deda160>"
      ]
     },
     "execution_count": 14,
     "metadata": {},
     "output_type": "execute_result"
    },
    {
     "data": {
      "image/png": "[encoded data removed]",
      "text/plain": [
       "<matplotlib.figure.Figure at 0x7f078decc4e0>"
      ]
     },
     "metadata": {},
     "output_type": "display_data"
    }
   ],
   "source": [
    "c_new, k_new = c_new_k_new(c_values, k_values)\n",
    "\n",
    "pl.plot(k_values, k_new-k_values)\n",
    "pl.xlabel(\"k\")\n",
    "pl.ylabel(\"Growth in capital\")"
   ]
  },
  {
   "cell_type": "code",
   "execution_count": 17,
   "metadata": {
    "collapsed": false
   },
   "outputs": [
    {
     "data": {
      "text/plain": [
       "(0.20727272727272733, 2.183167324226742)"
      ]
     },
     "execution_count": 17,
     "metadata": {},
     "output_type": "execute_result"
    }
   ],
   "source": [
    "#What about Solow model?\n",
    "#First we compute steady state saving rate in our model:\n",
    "\n",
    "k_ss = (alpha/((1+g)**theta/beta-(1-delta)))**(1/(1-alpha))\n",
    "c_ss = f(k_ss)-(delta+g)*k_ss\n",
    "\n",
    "s = (f(k_ss)-c_ss)/f(k_ss)\n",
    "\n",
    "s, k_ss"
   ]
  },
  {
   "cell_type": "code",
   "execution_count": 19,
   "metadata": {
    "collapsed": false
   },
   "outputs": [
    {
     "data": {
      "text/plain": [
       "[<matplotlib.lines.Line2D at 0x7f078de61be0>]"
      ]
     },
     "execution_count": 19,
     "metadata": {},
     "output_type": "execute_result"
    },
    {
     "data": {
      "image/png": "[encoded data removed]",
      "text/plain": [
       "<matplotlib.figure.Figure at 0x7f078de61dd8>"
      ]
     },
     "metadata": {},
     "output_type": "display_data"
    }
   ],
   "source": [
    "k_new_solow = (s*f(k_values) +(1-delta)*k_values)/(1+g)\n",
    "pl.plot(k_values, k_new-k_values, color = 'k')\n",
    "pl.plot(k_values, k_new_solow-k_values, color ='r')"
   ]
  },
  {
   "cell_type": "markdown",
   "metadata": {},
   "source": []
  },
  {
   "cell_type": "code",
   "execution_count": null,
   "metadata": {
    "collapsed": true
   },
   "outputs": [],
   "source": []
  }
 ],
 "metadata": {
  "kernelspec": {
   "display_name": "Python 3",
   "language": "python",
   "name": "python3"
  },
  "language_info": {
   "codemirror_mode": {
    "name": "ipython",
    "version": 3
   },
   "file_extension": ".py",
   "mimetype": "text/x-python",
   "name": "python",
   "nbconvert_exporter": "python",
   "pygments_lexer": "ipython3",
   "version": "3.4.5"
  }
 },
 "nbformat": 4,
 "nbformat_minor": 2
}
