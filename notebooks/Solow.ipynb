{
 "cells": [
  {
   "cell_type": "markdown",
   "metadata": {},
   "source": [
    "__Solow Model__\n",
    "Karl Harmenberg, Feb 2019\n",
    "\n",
    "This notebook introduces the Solow model, which in discrete time is given by\n",
    "\n",
    "$L_{t+1} = (1+n)L_t$\n",
    "\n",
    "$A_{t+1} = (1+g)A_t$\n",
    "\n",
    "$K_{t+1} = sF(K_t, A_tL_t) + (1-\\delta)K_t$\n",
    "\n",
    "First, we specify $F$:"
   ]
  },
  {
   "cell_type": "code",
   "execution_count": 27,
   "metadata": {},
   "outputs": [],
   "source": [
    "alpha = 0.33\n",
    "def F(K, AL):\n",
    "    return K**alpha*AL**(1-alpha)"
   ]
  },
  {
   "cell_type": "markdown",
   "metadata": {},
   "source": [
    "Then we pick some values for the growth rates $g$ and $n$, as well as a savings rate $s$ and a depreciation rate $\\delta$:"
   ]
  },
  {
   "cell_type": "code",
   "execution_count": 28,
   "metadata": {},
   "outputs": [],
   "source": [
    "n = 0.00\n",
    "g = 0.02\n",
    "s = 0.175\n",
    "delta = 0.04"
   ]
  },
  {
   "cell_type": "markdown",
   "metadata": {},
   "source": [
    "Now, we simulate the economy for a couple of years, starting with $L=1.0$, $A=1.0$ and $K = 1.0$."
   ]
  },
  {
   "cell_type": "code",
   "execution_count": 29,
   "metadata": {},
   "outputs": [
    {
     "name": "stdout",
     "output_type": "stream",
     "text": [
      "Year= 0\n",
      "Lnew= 1.0\n",
      "Anew= 1.02\n",
      "Knew= 1.135\n",
      "-------\n",
      "Year= 1\n",
      "Lnew= 1.0\n",
      "Anew= 1.0404\n",
      "Knew= 1.2745050608981707\n",
      "-------\n",
      "Year= 2\n",
      "Lnew= 1.0\n",
      "Anew= 1.061208\n",
      "Knew= 1.4182064980098263\n",
      "-------\n",
      "Year= 3\n",
      "Lnew= 1.0\n",
      "Anew= 1.08243216\n",
      "Knew= 1.5658394263979063\n",
      "-------\n",
      "Year= 4\n",
      "Lnew= 1.0\n",
      "Anew= 1.1040808032\n",
      "Knew= 1.7171759509589437\n",
      "-------\n",
      "Year= 5\n",
      "Lnew= 1.0\n",
      "Anew= 1.126162419264\n",
      "Knew= 1.8720197823304596\n",
      "-------\n",
      "Year= 6\n",
      "Lnew= 1.0\n",
      "Anew= 1.14868566764928\n",
      "Knew= 2.030201910485972\n",
      "-------\n",
      "Year= 7\n",
      "Lnew= 1.0\n",
      "Anew= 1.1716593810022657\n",
      "Knew= 2.191577078844193\n",
      "-------\n",
      "Year= 8\n",
      "Lnew= 1.0\n",
      "Anew= 1.195092568622311\n",
      "Knew= 2.356020875087312\n",
      "-------\n",
      "Year= 9\n",
      "Lnew= 1.0\n",
      "Anew= 1.2189944199947573\n",
      "Knew= 2.5234273046333664\n",
      "-------\n"
     ]
    }
   ],
   "source": [
    "L = 1.0\n",
    "A = 1.0\n",
    "K = 1.0\n",
    "\n",
    "for year in range(10):\n",
    "    Lnew = (1+n)*L\n",
    "    Anew = (1+g)*A\n",
    "    Knew = s*F(K, A*L)+(1-delta)*K\n",
    "\n",
    "    print(\"Year=\", year)\n",
    "    print(\"Lnew=\", Lnew)\n",
    "    print(\"Anew=\", Anew)\n",
    "    print(\"Knew=\", Knew)\n",
    "    print(\"-------\")\n",
    "    \n",
    "    L = Lnew\n",
    "    A = Anew\n",
    "    K = Knew"
   ]
  },
  {
   "cell_type": "markdown",
   "metadata": {},
   "source": [
    "We can compute the balanced growth path capital/output ratio and $K/(AL)$ (from the first homework):"
   ]
  },
  {
   "cell_type": "code",
   "execution_count": 25,
   "metadata": {},
   "outputs": [
    {
     "name": "stdout",
     "output_type": "stream",
     "text": [
      "BGP capital/output ratio= 2.9166666666666665\n",
      "BGP K/(AL)= 4.614493064378536\n"
     ]
    }
   ],
   "source": [
    "print(\"BGP capital/output ratio=\", s/(n+g+delta))\n",
    "print(\"BGP K/(AL)=\",(s/(n+g+delta))**(1/(1-alpha)))"
   ]
  },
  {
   "cell_type": "markdown",
   "metadata": {},
   "source": [
    "Now, let's simulate the scenario where a war had destroyed half of the capital stock. Before the war, we were on the balanced growth path, so $K/(AL)= \\left(\\frac{s}{n+g+\\delta}\\right)^{1/(1-\\alpha)}$.\n",
    "\n",
    "After the war, $K = 0.5 \\left(\\frac{s}{n+g+\\delta}\\right)^{1/(1-\\alpha)} AL$."
   ]
  },
  {
   "cell_type": "code",
   "execution_count": 26,
   "metadata": {},
   "outputs": [
    {
     "data": {
      "image/png": "[encoded data removed]",
      "text/plain": [
       "<Figure size 432x288 with 1 Axes>"
      ]
     },
     "metadata": {
      "needs_background": "light"
     },
     "output_type": "display_data"
    },
    {
     "data": {
      "image/png": "[encoded data removed]",
      "text/plain": [
       "<Figure size 432x288 with 1 Axes>"
      ]
     },
     "metadata": {
      "needs_background": "light"
     },
     "output_type": "display_data"
    },
    {
     "name": "stdout",
     "output_type": "stream",
     "text": [
      "BGP capital/output ratio= 2.9166666666666665\n",
      "BGP K/(AL)= 4.614493064378536\n"
     ]
    }
   ],
   "source": [
    "import numpy as np\n",
    "import pylab as pl\n",
    "\n",
    "L = 1.0\n",
    "A = 1.0\n",
    "K = 0.5*(s/(n+g+delta))**(1/(1-alpha))\n",
    "Years = 80\n",
    "\n",
    "gdp_list = np.zeros(Years)\n",
    "k_list = np.zeros(Years)\n",
    "capital_as_multiple_of_gdp = np.zeros(Years)\n",
    "\n",
    "for year in range(Years):\n",
    "    Lnew = (1+n)*L\n",
    "    Anew = (1+g)*A\n",
    "    Knew = s*F(K, A*L)+(1-delta)*K\n",
    "    \n",
    "    gdp_list[year] = F(K, A*L)/L\n",
    "    k_list[year] = K/(A*L)\n",
    "    capital_as_multiple_of_gdp[year] = K/F(K, A*L)\n",
    "    \n",
    "    L = Lnew\n",
    "    A = Anew\n",
    "    K = Knew\n",
    "\n",
    "%matplotlib inline\n",
    "\n",
    "annual_growth = gdp_list[1:]/gdp_list[:-1]-1\n",
    "\n",
    "pl.plot(annual_growth)\n",
    "pl.title(\"Annual GDP per capita growth\")\n",
    "pl.show()\n",
    "pl.title(\"Evolution of capital stock as multiple of GDP\")\n",
    "pl.plot(capital_as_multiple_of_gdp)\n",
    "pl.show()\n",
    "\n",
    "print(\"BGP capital/output ratio=\", s/(n+g+delta))\n",
    "print(\"BGP K/(AL)=\",(s/(n+g+delta))**(1/(1-alpha)))"
   ]
  }
 ],
 "metadata": {
  "kernelspec": {
   "display_name": "Python 3",
   "language": "python",
   "name": "python3"
  },
  "language_info": {
   "codemirror_mode": {
    "name": "ipython",
    "version": 3
   },
   "file_extension": ".py",
   "mimetype": "text/x-python",
   "name": "python",
   "nbconvert_exporter": "python",
   "pygments_lexer": "ipython3",
   "version": "3.5.6"
  }
 },
 "nbformat": 4,
 "nbformat_minor": 2
}
