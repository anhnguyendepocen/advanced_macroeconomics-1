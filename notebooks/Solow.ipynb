{
 "cells": [
  {
   "cell_type": "markdown",
   "metadata": {},
   "source": [
    "__Solow Model__\n",
    "Karl Harmenberg, Feb 2019\n",
    "\n",
    "This notebook introduces the Solow model, which in discrete time is given by\n",
    "\n",
    "$L_{t+1} = (1+n)L_t$\n",
    "\n",
    "$A_{t+1} = (1+g)A_t$\n",
    "\n",
    "$K_{t+1} = sF(K_t, A_tL_t) + (1-\\delta)K_t$\n",
    "\n",
    "First, we specify $F$:"
   ]
  },
  {
   "cell_type": "code",
   "execution_count": 2,
   "metadata": {},
   "outputs": [],
   "source": [
    "alpha = 0.3\n",
    "def F(K, AL):\n",
    "    return K**alpha*AL**(1-alpha)"
   ]
  },
  {
   "cell_type": "markdown",
   "metadata": {},
   "source": [
    "Then we pick some values for the growth rates $g$ and $n$, as well as a savings rate $s$ and a depreciation rate $\\delta$:"
   ]
  },
  {
   "cell_type": "code",
   "execution_count": 3,
   "metadata": {},
   "outputs": [],
   "source": [
    "n = 0.01\n",
    "g = 0.02\n",
    "s = 0.2\n",
    "delta = 0.1"
   ]
  },
  {
   "cell_type": "markdown",
   "metadata": {},
   "source": [
    "Now, we simulate the economy for a couple of years, starting with $L=1.0$, $A=1.0$ and $K = 1.0$."
   ]
  },
  {
   "cell_type": "code",
   "execution_count": 4,
   "metadata": {},
   "outputs": [
    {
     "name": "stdout",
     "output_type": "stream",
     "text": [
      "Year= 0\n",
      "Lnew= 1.01\n",
      "Anew= 1.02\n",
      "Knew= 1.1\n",
      "-------\n",
      "Year= 1\n",
      "Lnew= 1.0201\n",
      "Anew= 1.0404\n",
      "Knew= 1.20013233338\n",
      "-------\n",
      "Year= 2\n",
      "Lnew= 1.030301\n",
      "Anew= 1.061208\n",
      "Knew= 1.30035539909\n",
      "-------\n",
      "Year= 3\n",
      "Lnew= 1.04060401\n",
      "Anew= 1.08243216\n",
      "Knew= 1.40066754892\n",
      "-------\n",
      "Year= 4\n",
      "Lnew= 1.0510100501\n",
      "Anew= 1.1040808032\n",
      "Knew= 1.50109844746\n",
      "-------\n",
      "Year= 5\n",
      "Lnew= 1.0615201506\n",
      "Anew= 1.12616241926\n",
      "Knew= 1.60170235559\n",
      "-------\n",
      "Year= 6\n",
      "Lnew= 1.07213535211\n",
      "Anew= 1.14868566765\n",
      "Knew= 1.70255286885\n",
      "-------\n",
      "Year= 7\n",
      "Lnew= 1.08285670563\n",
      "Anew= 1.171659381\n",
      "Knew= 1.80373877214\n",
      "-------\n",
      "Year= 8\n",
      "Lnew= 1.09368527268\n",
      "Anew= 1.19509256862\n",
      "Knew= 1.90536076173\n",
      "-------\n",
      "Year= 9\n",
      "Lnew= 1.10462212541\n",
      "Anew= 1.21899441999\n",
      "Knew= 2.00752884756\n",
      "-------\n"
     ]
    }
   ],
   "source": [
    "L = 1.0\n",
    "A = 1.0\n",
    "K = 1.0\n",
    "\n",
    "for year in range(10):\n",
    "    Lnew = (1+n)*L\n",
    "    Anew = (1+g)*A\n",
    "    Knew = s*F(K, A*L)+(1-delta)*K\n",
    "\n",
    "    print \"Year=\", year\n",
    "    print \"Lnew=\", Lnew\n",
    "    print \"Anew=\", Anew\n",
    "    print \"Knew=\", Knew\n",
    "    print \"-------\"\n",
    "    \n",
    "    L = Lnew\n",
    "    A = Anew\n",
    "    K = Knew"
   ]
  },
  {
   "cell_type": "markdown",
   "metadata": {},
   "source": [
    "Ok, that was kind of interesting, but let's track how GDP per capita evolves."
   ]
  },
  {
   "cell_type": "code",
   "execution_count": 5,
   "metadata": {},
   "outputs": [
    {
     "data": {
      "image/png": "[encoded data removed]",
      "text/plain": [
       "<Figure size 432x288 with 1 Axes>"
      ]
     },
     "metadata": {
      "needs_background": "light"
     },
     "output_type": "display_data"
    },
    {
     "data": {
      "image/png": "[encoded data removed]",
      "text/plain": [
       "<Figure size 432x288 with 1 Axes>"
      ]
     },
     "metadata": {
      "needs_background": "light"
     },
     "output_type": "display_data"
    }
   ],
   "source": [
    "import numpy as np\n",
    "import pylab as pl\n",
    "\n",
    "L = 1.0\n",
    "A = 1.0\n",
    "K = 1.0\n",
    "Years = 40\n",
    "\n",
    "gdp_list = np.zeros(Years)\n",
    "k_list = np.zeros(Years)\n",
    "\n",
    "for year in range(Years):\n",
    "    Lnew = (1+n)*L\n",
    "    Anew = (1+g)*A\n",
    "    Knew = s*F(K, A*L)+(1-delta)*K\n",
    "    \n",
    "    gdp_list[year] = F(K, A*L)/L\n",
    "    k_list[year] = K/(A*L)\n",
    "    \n",
    "    L = Lnew\n",
    "    A = Anew\n",
    "    K = Knew\n",
    "\n",
    "%matplotlib inline\n",
    "\n",
    "annual_growth = gdp_list[1:]/gdp_list[:-1]-1\n",
    "\n",
    "pl.plot(annual_growth)\n",
    "pl.title(\"Annual GDP per capita growth\")\n",
    "pl.show()\n",
    "pl.title(\"Evolution of k\")\n",
    "pl.plot(k_list)\n",
    "pl.show()\n"
   ]
  },
  {
   "cell_type": "markdown",
   "metadata": {},
   "source": [
    "The growth rate is high initially because the capital stock was low. Eventually, the economy converges to the balanced growth path and has a two-percent GDP per capita growth. What do the figures look like if we set $K=5.0$?"
   ]
  }
 ],
 "metadata": {
  "kernelspec": {
   "display_name": "Python 2",
   "language": "python",
   "name": "python2"
  },
  "language_info": {
   "codemirror_mode": {
    "name": "ipython",
    "version": 2
   },
   "file_extension": ".py",
   "mimetype": "text/x-python",
   "name": "python",
   "nbconvert_exporter": "python",
   "pygments_lexer": "ipython2",
   "version": "2.7.15"
  }
 },
 "nbformat": 4,
 "nbformat_minor": 2
}
